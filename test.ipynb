{
 "cells": [
  {
   "cell_type": "code",
   "execution_count": 1,
   "metadata": {},
   "outputs": [],
   "source": [
    "%matplotlib inline"
   ]
  },
  {
   "cell_type": "markdown",
   "metadata": {},
   "source": [
    "### Test glue_tree from Newick\n",
    "\n",
    "Change Kernel to `glueviz-dev`."
   ]
  },
  {
   "cell_type": "code",
   "execution_count": 80,
   "metadata": {},
   "outputs": [],
   "source": [
    "from config import *\n",
    "\n",
    "import numpy as np\n",
    "\n",
    "import matplotlib.pyplot as plt\n",
    "from matplotlib.collections import LineCollection"
   ]
  },
  {
   "cell_type": "code",
   "execution_count": 81,
   "metadata": {},
   "outputs": [
    {
     "name": "stdout",
     "output_type": "stream",
     "text": [
      "Pixel Axis 0 [x] : [ 0  1  2  3  4  5  6  7  8  9 10 11 12 13 14]\n",
      "World 0 : [ 0  1  2  3  4  5  6  7  8  9 10 11 12 13 14]\n",
      "parent : [-1  0  0  0  3  3  0  6  6  8  8  0  0 12 12]\n",
      "names : ['' 'A' 'B' '' 'C' 'D' '' 'E' '' 'F' 'G' 'H' '' 'I' 'J']\n",
      "size : [0.   0.1  0.2  0.5  0.3  0.4  0.35 0.25 0.4  0.1  0.15 0.25 0.3  0.1\n",
      " 0.2 ]\n"
     ]
    }
   ],
   "source": [
    "# parse the example Newick\n",
    "\n",
    "test = read_newick('tmp2.nwk')\n",
    "\n",
    "for ID in test.component_ids():\n",
    "    \n",
    "    print(ID, ':', test[ID])"
   ]
  },
  {
   "cell_type": "code",
   "execution_count": 82,
   "metadata": {},
   "outputs": [],
   "source": [
    "# identify the leafness of each structures\n",
    "\n",
    "leafness = []\n",
    "\n",
    "for pix in range(len(test['parent'])):\n",
    "    \n",
    "    if pix != (len(test['parent'])-1):\n",
    "        leafness.append('leaf' if (test['parent'][pix] >= test['parent'][pix+1]) else 'branch')\n",
    "    else:\n",
    "        leafness.append('leaf')"
   ]
  },
  {
   "cell_type": "code",
   "execution_count": 83,
   "metadata": {},
   "outputs": [],
   "source": [
    "# identify the direct children of each branch\n",
    "\n",
    "children = []\n",
    "\n",
    "idx = np.array(range(len(test['parent'])))\n",
    "\n",
    "for pix in idx:\n",
    "    \n",
    "    if leafness[pix] == 'branch':\n",
    "        \n",
    "        child = idx[(test['parent'] == idx[pix])]\n",
    "        \n",
    "    else:\n",
    "        \n",
    "        child = np.array([])\n",
    "        \n",
    "    children.append(child)"
   ]
  },
  {
   "cell_type": "code",
   "execution_count": 84,
   "metadata": {},
   "outputs": [],
   "source": [
    "# calculate x-positions following astrodendro\n",
    "\n",
    "x_pos = np.zeros(len(test['parent']))\n",
    "\n",
    "idx = np.array(range(len(test['parent'])))\n",
    "\n",
    "## leaves\n",
    "_cached_pos = 1.\n",
    "for pix in idx[(np.array(leafness) == 'leaf')]:\n",
    "    \n",
    "    x_pos[pix] = _cached_pos\n",
    "    _cached_pos += 1.\n",
    "    \n",
    "    \n",
    "#nlevels = 5\n",
    "nlevels = len(set(test['parent']))  ### optimize this.\n",
    "for level in np.array(range(nlevels)):\n",
    "    for pix in idx[(np.array(leafness) == 'branch')]:\n",
    "        \n",
    "        if x_pos[pix] == 0.:\n",
    "            \n",
    "            if np.all(x_pos[children[pix]] != 0.):\n",
    "                \n",
    "                x_pos[pix] = np.mean(x_pos[children[pix]])\n",
    "                \n",
    "            else:\n",
    "                \n",
    "                continue\n",
    "                \n",
    "        else:\n",
    "            \n",
    "            continue\n",
    "    "
   ]
  },
  {
   "cell_type": "code",
   "execution_count": 85,
   "metadata": {},
   "outputs": [],
   "source": [
    "# heights\n",
    "\n",
    "heights = np.zeros(len(test['parent']))\n",
    "\n",
    "idx = np.array(range(len(test['parent'])))\n",
    "\n",
    "for pix in idx:\n",
    "    \n",
    "    heights[idx[(test['parent'] == pix)]] += (test['size'][pix] + heights[pix])\n",
    "    \n",
    "heights = heights + test['size']"
   ]
  },
  {
   "cell_type": "code",
   "execution_count": 86,
   "metadata": {},
   "outputs": [],
   "source": [
    "# vertices for vertical lines\n",
    "\n",
    "verts = []\n",
    "\n",
    "idx = np.array(range(len(test['parent'])))\n",
    "\n",
    "for pix in idx:\n",
    "    \n",
    "    if test['parent'][pix] == -1:\n",
    "        \n",
    "        vert = np.array([[x_pos[pix], 0.],\n",
    "                         [x_pos[pix], heights[pix]]])\n",
    "    \n",
    "    else:\n",
    "        \n",
    "        vert = np.array([[x_pos[pix], heights[test['parent'][pix]]],\n",
    "                         [x_pos[pix], heights[pix]]])\n",
    "    \n",
    "    verts.append(vert)\n",
    "    \n",
    "    \n",
    "# vertices for horizontal lines\n",
    "verts_horiz = []\n",
    "\n",
    "for pix in idx:\n",
    "    \n",
    "    if leafness[pix] == 'branch':\n",
    "        \n",
    "        vert = np.array([[x_pos[idx[(test['parent'] == pix)][0]], heights[pix]],\n",
    "                         [x_pos[idx[(test['parent'] == pix)][-1]], heights[pix]]])\n",
    "        \n",
    "    else:\n",
    "        \n",
    "        continue\n",
    "        \n",
    "    verts_horiz.append(vert)"
   ]
  },
  {
   "cell_type": "code",
   "execution_count": 96,
   "metadata": {},
   "outputs": [],
   "source": [
    "import matplotlib.cm as cm\n",
    "import matplotlib.colors as colors"
   ]
  },
  {
   "cell_type": "code",
   "execution_count": 108,
   "metadata": {},
   "outputs": [
    {
     "data": {
      "image/png": "[encoded data removed]",
      "text/plain": [
       "<Figure size 640x480 with 1 Axes>"
      ]
     },
     "metadata": {},
     "output_type": "display_data"
    }
   ],
   "source": [
    "for i in np.array([0., .2, .4, .6, .8, 1.]):\n",
    "\n",
    "    plt.plot([i, i], [1., 2.],\n",
    "             color = cm.Reds(i))"
   ]
  },
  {
   "cell_type": "code",
   "execution_count": 104,
   "metadata": {},
   "outputs": [
    {
     "data": {
      "text/plain": [
       "(0.41708573625528644, 0.6806305267204922, 0.8382314494425221, 1.0)"
      ]
     },
     "execution_count": 104,
     "metadata": {},
     "output_type": "execute_result"
    }
   ],
   "source": [
    "colors.Normalize()"
   ]
  },
  {
   "cell_type": "code",
   "execution_count": 110,
   "metadata": {},
   "outputs": [
    {
     "data": {
      "text/plain": [
       "[(1.0, 0.9607843137254902, 0.9411764705882353, 1.0),\n",
       " (0.996555171088043, 0.8884429065743944, 0.8378316032295271, 1.0),\n",
       " (0.9901422529796232, 0.7686120722798924, 0.6780930411380238, 1.0),\n",
       " (0.9629065743944636, 0.331841599384852, 0.23667820069204154, 1.0),\n",
       " (0.6175009611687813, 0.05167243367935409, 0.07853902345251824, 1.0),\n",
       " (0.403921568627451, 0.0, 0.05098039215686274, 1.0),\n",
       " (0.9878200692041523, 0.5559400230680507, 0.4304498269896194, 1.0),\n",
       " (0.8901960784313725, 0.18562091503267975, 0.15294117647058825, 1.0),\n",
       " (0.6943944636678201, 0.07003460207612457, 0.09231833910034601, 1.0),\n",
       " (0.5107112648981161, 0.025836216839677045, 0.0647597078046905, 1.0),\n",
       " (0.403921568627451, 0.0, 0.05098039215686274, 1.0),\n",
       " (0.9882352941176471, 0.6967627835447904, 0.5894502114571318, 1.0),\n",
       " (0.9882352941176471, 0.6261437908496732, 0.5084967320261438, 1.0),\n",
       " (0.9860976547481738, 0.48704344482891193, 0.3615532487504806, 1.0),\n",
       " (0.9629065743944636, 0.331841599384852, 0.23667820069204154, 1.0)]"
      ]
     },
     "execution_count": 110,
     "metadata": {},
     "output_type": "execute_result"
    }
   ],
   "source": [
    "[cm.Reds(colors.Normalize(height.min(), height.max())(h)) for h in height]"
   ]
  },
  {
   "cell_type": "code",
   "execution_count": 115,
   "metadata": {},
   "outputs": [
    {
     "data": {
      "text/plain": [
       "[array([[1. , 0. ],\n",
       "        [9.5, 0. ]]), array([[3. , 0.5],\n",
       "        [4. , 0.5]]), array([[5.  , 0.35],\n",
       "        [6.5 , 0.35]]), array([[6.  , 0.75],\n",
       "        [7.  , 0.75]]), array([[ 9. ,  0.3],\n",
       "        [10. ,  0.3]])]"
      ]
     },
     "execution_count": 115,
     "metadata": {},
     "output_type": "execute_result"
    }
   ],
   "source": [
    "verts_horiz"
   ]
  },
  {
   "cell_type": "code",
   "execution_count": 117,
   "metadata": {},
   "outputs": [
    {
     "data": {
      "text/plain": [
       "5"
      ]
     },
     "execution_count": 117,
     "metadata": {},
     "output_type": "execute_result"
    }
   ],
   "source": [
    "len(verts_horiz)"
   ]
  },
  {
   "cell_type": "code",
   "execution_count": 116,
   "metadata": {},
   "outputs": [
    {
     "data": {
      "text/plain": [
       "(20, 2, 2)"
      ]
     },
     "execution_count": 116,
     "metadata": {},
     "output_type": "execute_result"
    }
   ],
   "source": [
    "np.concatenate([verts, verts_horiz]).shape"
   ]
  },
  {
   "cell_type": "code",
   "execution_count": 111,
   "metadata": {},
   "outputs": [],
   "source": [
    "lc = LineCollection(verts,\n",
    "                    linewidths = 5.,\n",
    "                    colors = [cm.Reds(colors.Normalize(height.min(), height.max())(h)) for h in height],\n",
    "                    linestyle = 'solid')\n",
    "lc_horiz = LineCollection(verts_horiz,\n",
    "                    linewidths = 5.,\n",
    "                    colors = 'k',\n",
    "                    linestyle = 'solid')"
   ]
  },
  {
   "cell_type": "code",
   "execution_count": 118,
   "metadata": {},
   "outputs": [],
   "source": [
    "lc_test = LineCollection(np.concatenate([verts, verts_horiz]),\n",
    "                    linewidths = 5.,\n",
    "                    colors = 'k',\n",
    "                    linestyle = 'solid')"
   ]
  },
  {
   "cell_type": "code",
   "execution_count": 119,
   "metadata": {},
   "outputs": [
    {
     "data": {
      "text/plain": [
       "(0.0, 1.0)"
      ]
     },
     "execution_count": 119,
     "metadata": {},
     "output_type": "execute_result"
    },
    {
     "data": {
      "image/png": "[encoded data removed]",
      "text/plain": [
       "<Figure size 640x480 with 1 Axes>"
      ]
     },
     "metadata": {},
     "output_type": "display_data"
    }
   ],
   "source": [
    "fig = plt.figure()\n",
    "ax = fig.gca()\n",
    "\n",
    "\n",
    "ax.add_collection(lc_test)\n",
    "#ax.add_collection(LineCollection(verts_rot))\n",
    "#artist.set_data(lc)\n",
    "#ax.add_collection(lc_horiz)\n",
    "\n",
    "ax.set_xlim(-.5, 10.5)\n",
    "\n",
    "ax.set_ylim(0., 1.)"
   ]
  },
  {
   "cell_type": "code",
   "execution_count": 112,
   "metadata": {},
   "outputs": [
    {
     "data": {
      "text/plain": [
       "(0.0, 1.0)"
      ]
     },
     "execution_count": 112,
     "metadata": {},
     "output_type": "execute_result"
    },
    {
     "data": {
      "image/png": "[encoded data removed]",
      "text/plain": [
       "<Figure size 640x480 with 1 Axes>"
      ]
     },
     "metadata": {},
     "output_type": "display_data"
    }
   ],
   "source": [
    "fig = plt.figure()\n",
    "ax = fig.gca()\n",
    "\n",
    "\n",
    "ax.add_collection(lc)\n",
    "ax.add_collection(lc_horiz)\n",
    "#ax.add_collection(LineCollection(verts_rot))\n",
    "#artist.set_data(lc)\n",
    "#ax.add_collection(lc_horiz)\n",
    "\n",
    "ax.set_xlim(-.5, 10.5)\n",
    "\n",
    "ax.set_ylim(0., 1.)\n",
    "\n",
    "#ax.set_yscale('log')"
   ]
  },
  {
   "cell_type": "code",
   "execution_count": null,
   "metadata": {},
   "outputs": [],
   "source": [
    "self.axes.set_yscale('log')"
   ]
  },
  {
   "cell_type": "code",
   "execution_count": 78,
   "metadata": {},
   "outputs": [],
   "source": [
    "verts_rot = []\n",
    "\n",
    "for vert in verts:\n",
    "    \n",
    "    _cache = np.zeros(vert.shape)\n",
    "    \n",
    "    _cache[:, 0] = vert[:, 1]\n",
    "    _cache[:, 1] = vert[:, 0]\n",
    "    \n",
    "    verts_rot.append(_cache)"
   ]
  },
  {
   "cell_type": "code",
   "execution_count": 56,
   "metadata": {},
   "outputs": [],
   "source": [
    "x, y = x_pos, heights\n",
    "\n",
    "ids = np.arange(3)\n",
    "\n",
    "blank = np.zeros(ids.size) * np.nan\n",
    "x = np.column_stack([x[ids], x[ids + 1],\n",
    "                     x[ids + 2], blank]).ravel()\n",
    "y = np.column_stack([y[ids], y[ids + 1],\n",
    "                     y[ids + 2], blank]).ravel()"
   ]
  },
  {
   "cell_type": "code",
   "execution_count": 27,
   "metadata": {},
   "outputs": [],
   "source": [
    "import pandas as pd"
   ]
  },
  {
   "cell_type": "code",
   "execution_count": 32,
   "metadata": {},
   "outputs": [],
   "source": [
    "temp_dict = {'parent': test['parent'],\n",
    "             'height': heights}\n",
    "\n",
    "temp_table = pd.DataFrame(temp_dict)\n",
    "temp_table.to_csv('data/parent_height.csv',\n",
    "                  index = False)"
   ]
  },
  {
   "cell_type": "code",
   "execution_count": null,
   "metadata": {},
   "outputs": [],
   "source": []
  },
  {
   "cell_type": "code",
   "execution_count": 80,
   "metadata": {},
   "outputs": [],
   "source": [
    "temp_dict = {'parent': test['parent'],\n",
    "             'height': heights,\n",
    "             'prop1': test['size'],\n",
    "             'prop2': test['size']**2.}\n",
    "\n",
    "temp_table = pd.DataFrame(temp_dict)\n",
    "temp_table.to_csv('data/parent_height_properties.csv',\n",
    "                  index = False)"
   ]
  },
  {
   "cell_type": "code",
   "execution_count": 33,
   "metadata": {},
   "outputs": [
    {
     "data": {
      "image/png": "[encoded data removed]",
      "text/plain": [
       "<Figure size 432x288 with 1 Axes>"
      ]
     },
     "metadata": {},
     "output_type": "display_data"
    }
   ],
   "source": [
    "# test plot\n",
    "import matplotlib.pyplot as plt\n",
    "\n",
    "fig = plt.figure()\n",
    "ax = fig.gca()\n",
    "\n",
    "idx = np.array(range(len(test['parent'])))\n",
    "\n",
    "for pix in idx:\n",
    "    \n",
    "    ax.plot(verts[pix][:, 0],\n",
    "            verts[pix][:, 1],\n",
    "            color = 'k')\n",
    "    \n",
    "for pix in np.array(range(len(verts_horiz))):\n",
    "    \n",
    "    ax.plot(verts_horiz[pix][:, 0],\n",
    "            verts_horiz[pix][:, 1],\n",
    "            color = 'r')"
   ]
  },
  {
   "cell_type": "markdown",
   "metadata": {},
   "source": [
    "____\n",
    "\n",
    "** generec sort-by function **\n",
    "\n",
    "kernel: glueviz-dev"
   ]
  },
  {
   "cell_type": "code",
   "execution_count": 1,
   "metadata": {},
   "outputs": [],
   "source": [
    "%matplotlib inline"
   ]
  },
  {
   "cell_type": "code",
   "execution_count": 223,
   "metadata": {},
   "outputs": [],
   "source": [
    "import numpy as np\n",
    "import pandas as pd\n",
    "\n",
    "def dendro_layout(parent, height, orientation = 'bottom-up'):\n",
    "    '''\n",
    "    Summarizing functions that outputs the line collectionself.\n",
    "    '''\n",
    "\n",
    "    leafness = calculate_leafness(parent)\n",
    "    children = calculate_children(parent, leafness)\n",
    "\n",
    "    xpos = calculate_xpos(parent, leafness, children)\n",
    "    verts, verts_horiz = calculate_verts(parent, height, leafness, xpos,\n",
    "                            orientation = orientation)\n",
    "\n",
    "    # line_collection = LineCollection(verts,\n",
    "    #                                  colors = 'k',\n",
    "    #                                  linestyle = 'solid')\n",
    "\n",
    "    #return line_collection\n",
    "    return verts, verts_horiz\n",
    "    #return xpos, height\n",
    "\n",
    "\n",
    "\n",
    "\n",
    "def calculate_leafness(parent):\n",
    "\n",
    "    leafness = []\n",
    "\n",
    "\n",
    "    for idx in range(len(parent)):\n",
    "\n",
    "        if idx != (len(parent)-1):\n",
    "            leafness.append('leaf' if (parent[idx] >= parent[idx+1]) else 'branch')\n",
    "        else:\n",
    "            leafness.append('leaf')\n",
    "\n",
    "    return leafness\n",
    "\n",
    "def calculate_nleaf(parent):\n",
    "\n",
    "    leafness = calculate_leafness(parent)\n",
    "    leafness = np.asarray(leafness)\n",
    "\n",
    "    return np.sum(leafness == 'leaf')\n",
    "\n",
    "def calculate_children(parent, leafness):\n",
    "\n",
    "    children = []\n",
    "\n",
    "    iter_array = np.array(range(len(parent)))\n",
    "\n",
    "    for idx in iter_array:\n",
    "\n",
    "        if leafness[idx] == 'branch':\n",
    "            \n",
    "            \n",
    "            print(idx, '---')\n",
    "            print(leafness[idx])\n",
    "            print(parent == idx)\n",
    "\n",
    "            child = iter_array[(parent == idx)]\n",
    "\n",
    "        else:\n",
    "\n",
    "            child = np.array([])\n",
    "\n",
    "        children.append(child)\n",
    "\n",
    "    return children\n",
    "\n",
    "\n",
    "\n",
    "########\n",
    "def calculate_subtree(parent, leafness):\n",
    "\n",
    "    subtree = []\n",
    "\n",
    "    iter_array = np.array(range(len(parent)))\n",
    "    \n",
    "    nlevels = len(set(parent))\n",
    "    \n",
    "    for idx in iter_array:\n",
    "\n",
    "        if leafness[idx] == 'branch':\n",
    "            \n",
    "            parent_own = parent[idx]\n",
    "            \n",
    "            if sum((parent == parent_own)) == 1.:\n",
    "                \n",
    "                descendent = iter_array[1:]\n",
    "                \n",
    "            else:\n",
    "                \n",
    "                if sum((parent <= parent_own)&(iter_array > idx)) == 0.:\n",
    "                    \n",
    "                    descendent = iter_array[(idx+1):]\n",
    "                    \n",
    "                else:\n",
    "                \n",
    "                    descendent = iter_array[(idx+1):\n",
    "                                            iter_array[np.where((parent <= parent_own)&(iter_array > idx))][0]]\n",
    "            \n",
    "\n",
    "        else:\n",
    "\n",
    "            descendent = np.array([])\n",
    "\n",
    "        subtree.append(descendent)\n",
    "\n",
    "    return subtree\n",
    "\n",
    "\n",
    "######\n",
    "\n",
    "\n",
    "def calculate_xpos(parent, leafness, children):\n",
    "\n",
    "    x_pos = np.zeros(len(parent))\n",
    "\n",
    "    iter_array = np.array(range(len(parent)))\n",
    "\n",
    "    ## leaves\n",
    "    _cached_pos = 1.\n",
    "    for idx in iter_array[(np.array(leafness) == 'leaf')]:\n",
    "\n",
    "        x_pos[idx] = _cached_pos\n",
    "        _cached_pos += 1.\n",
    "\n",
    "\n",
    "    ## branches\n",
    "    #nlevels = 5\n",
    "    nlevels = len(set(parent))  ### optimize this.\n",
    "    for level in np.array(range(nlevels)):\n",
    "        for idx in iter_array[(np.array(leafness) == 'branch')]:\n",
    "\n",
    "            if x_pos[idx] == 0.:\n",
    "                if np.all(x_pos[children[idx]] != 0.):\n",
    "                    x_pos[idx] = np.mean(x_pos[children[idx]])\n",
    "\n",
    "                else:\n",
    "                    continue\n",
    "\n",
    "            else:\n",
    "                continue\n",
    "\n",
    "    return x_pos\n",
    "\n",
    "\n",
    "\n",
    "def calculate_verts(parent, height, leafness, x_pos, orientation = 'bottom-up'):\n",
    "\n",
    "    verts = []\n",
    "\n",
    "    iter_array = np.array(range(len(parent)))\n",
    "\n",
    "    # vertices for vertical lines\n",
    "    for idx in iter_array:\n",
    "\n",
    "        if parent[idx] == -1:\n",
    "\n",
    "            vert = np.array([[x_pos[idx], 0.],\n",
    "                             [x_pos[idx], height[idx]]])\n",
    "\n",
    "        else:\n",
    "\n",
    "            vert = np.array([[x_pos[idx], height[parent[idx]]],\n",
    "                             [x_pos[idx], height[idx]]])\n",
    "\n",
    "        verts.append(vert)\n",
    "\n",
    "\n",
    "    verts_horiz = []\n",
    "\n",
    "    # vertices for horizontal lines\n",
    "    for idx in iter_array:\n",
    "\n",
    "        if leafness[idx] == 'branch':\n",
    "\n",
    "            vert = np.array([[x_pos[iter_array[(parent == idx)][0]], height[idx]],\n",
    "                             [x_pos[iter_array[(parent == idx)][-1]], height[idx]]])\n",
    "\n",
    "        else:\n",
    "\n",
    "            continue\n",
    "\n",
    "        verts_horiz.append(vert)\n",
    "\n",
    "\n",
    "    if (orientation == 'bottom-up') or (orientation == 'top-down'):\n",
    "        return verts, verts_horiz\n",
    "\n",
    "    elif (orientation == 'left-right') or (orientation == 'right-left'):\n",
    "\n",
    "        verts_rot = []\n",
    "\n",
    "        for vert in verts:\n",
    "\n",
    "            _cache = np.zeros(vert.shape)\n",
    "\n",
    "            _cache[:, 0] = vert[:, 1]\n",
    "            _cache[:, 1] = vert[:, 0]\n",
    "\n",
    "            verts_rot.append(_cache)\n",
    "\n",
    "        verts_horiz_rot = []\n",
    "\n",
    "        for vert in verts_horiz:\n",
    "\n",
    "            _cache = np.zeros(vert.shape)\n",
    "\n",
    "            _cache[:, 0] = vert[:, 1]\n",
    "            _cache[:, 1] = vert[:, 0]\n",
    "\n",
    "            verts_horiz_rot.append(_cache)\n",
    "\n",
    "        return verts_rot, verts_horiz_rot"
   ]
  },
  {
   "cell_type": "code",
   "execution_count": 139,
   "metadata": {},
   "outputs": [],
   "source": [
    "df = pd.read_csv('data/parent_height_properties.csv')\n",
    "parent = df['parent'].values\n",
    "height = df['height'].values\n",
    "\n",
    "leafness = calculate_leafness(parent)\n",
    "children = calculate_children(parent, leafness)"
   ]
  },
  {
   "cell_type": "code",
   "execution_count": 256,
   "metadata": {},
   "outputs": [],
   "source": [
    "def sort1Darrays(parent, height, sortby_array):\n",
    "\n",
    "    #####sortby_array = height\n",
    "\n",
    "    #\n",
    "    leafness = calculate_leafness(parent)\n",
    "    subtree = calculate_subtree(parent, leafness)\n",
    "\n",
    "\n",
    "    ####\n",
    "    iter_array = np.array(range(len(parent)))\n",
    "\n",
    "    iter_array_updated = iter_array.copy()\n",
    "    parent_updated = parent.copy()\n",
    "\n",
    "    for idx in iter_array:\n",
    "\n",
    "\n",
    "        if sum((parent == idx)) > 0.:\n",
    "\n",
    "\n",
    "            args_0 = iter_array[parent == idx]\n",
    "            sortby = sortby_array[parent == idx]\n",
    "            args_sorted = args_0[np.argsort(sortby)]\n",
    "\n",
    "            idx_j = np.where(iter_array_updated == idx)[0][0]\n",
    "\n",
    "\n",
    "            for jdx in args_sorted:\n",
    "\n",
    "\n",
    "\n",
    "                iter_array_updated[(idx_j+1)] = jdx\n",
    "                parent_updated[(idx_j+1)] = np.where(iter_array_updated == idx)[0][0]\n",
    "\n",
    "                descendent = subtree[jdx]\n",
    "                if len(descendent) > 0.:\n",
    "\n",
    "                    iter_array_updated[(idx_j+2):(idx_j+2+len(descendent))] = descendent\n",
    "                    parent_updated[(idx_j+2):(idx_j+2+len(descendent))] = parent[descendent] + ((idx_j+1)-jdx)\n",
    "\n",
    "\n",
    "\n",
    "                idx_j = idx_j + (1+len(descendent))\n",
    "\n",
    "\n",
    "\n",
    "\n",
    "        else:\n",
    "            continue\n",
    "\n",
    "\n",
    "\n",
    "\n",
    "    #parent_updated = parent[iter_array_updated]\n",
    "    height_updated = height[iter_array_updated]\n",
    "\n",
    "\n",
    "    return parent_updated, height_updated"
   ]
  },
  {
   "cell_type": "code",
   "execution_count": 258,
   "metadata": {},
   "outputs": [],
   "source": [
    "test = sort1Darrays(parent, height, height)"
   ]
  },
  {
   "cell_type": "code",
   "execution_count": 261,
   "metadata": {},
   "outputs": [
    {
     "data": {
      "text/plain": [
       "array([0.  , 0.1 , 0.2 , 0.25, 0.3 , 0.4 , 0.5 , 0.35, 0.6 , 0.75, 0.85,\n",
       "       0.9 , 0.5 , 0.8 , 0.9 ])"
      ]
     },
     "execution_count": 261,
     "metadata": {},
     "output_type": "execute_result"
    }
   ],
   "source": [
    "test[1]"
   ]
  },
  {
   "cell_type": "code",
   "execution_count": 262,
   "metadata": {},
   "outputs": [
    {
     "data": {
      "text/plain": [
       "array([0.  , 0.1 , 0.2 , 0.25, 0.3 , 0.4 , 0.5 , 0.35, 0.6 , 0.75, 0.85,\n",
       "       0.9 , 0.5 , 0.8 , 0.9 ])"
      ]
     },
     "execution_count": 262,
     "metadata": {},
     "output_type": "execute_result"
    }
   ],
   "source": [
    "height_updated"
   ]
  },
  {
   "cell_type": "code",
   "execution_count": 253,
   "metadata": {},
   "outputs": [
    {
     "name": "stdout",
     "output_type": "stream",
     "text": [
      "0 ---\n",
      "[ 1  2 11 12  6  3]\n",
      "idx_j 0\n",
      "jdx 1\n",
      "[ 0  1  2  3  4  5  6  7  8  9 10 11 12 13 14]\n",
      "[-1  0  0  0  3  3  0  6  6  8  8  0  0 12 12]\n",
      "idx_j 1\n",
      "=====\n",
      "idx_j 1\n",
      "jdx 2\n",
      "[ 0  1  2  3  4  5  6  7  8  9 10 11 12 13 14]\n",
      "[-1  0  0  0  3  3  0  6  6  8  8  0  0 12 12]\n",
      "idx_j 2\n",
      "=====\n",
      "idx_j 2\n",
      "jdx 11\n",
      "[ 0  1  2 11  4  5  6  7  8  9 10 11 12 13 14]\n",
      "[-1  0  0  0  3  3  0  6  6  8  8  0  0 12 12]\n",
      "idx_j 3\n",
      "=====\n",
      "idx_j 3\n",
      "jdx 12\n",
      "[-1  0  0  0  0  4  4  6  6  8  8  0  0 12 12]\n",
      "[ 0  1  2 11 12 13 14  7  8  9 10 11 12 13 14]\n",
      "[-1  0  0  0  0  4  4  6  6  8  8  0  0 12 12]\n",
      "idx_j 6\n",
      "=====\n",
      "idx_j 6\n",
      "jdx 6\n",
      "[-1  0  0  0  0  4  4  0  7  7  9  9  0 12 12]\n",
      "[ 0  1  2 11 12 13 14  6  7  8  9 10 12 13 14]\n",
      "[-1  0  0  0  0  4  4  0  7  7  9  9  0 12 12]\n",
      "idx_j 11\n",
      "=====\n",
      "idx_j 11\n",
      "jdx 3\n",
      "[-1  0  0  0  0  4  4  0  7  7  9  9  0 12 12]\n",
      "[ 0  1  2 11 12 13 14  6  7  8  9 10  3  4  5]\n",
      "[-1  0  0  0  0  4  4  0  7  7  9  9  0 12 12]\n",
      "idx_j 14\n",
      "=====\n",
      "3 ---\n",
      "[4 5]\n",
      "idx_j 12\n",
      "jdx 4\n",
      "[ 0  1  2 11 12 13 14  6  7  8  9 10  3  4  5]\n",
      "[-1  0  0  0  0  4  4  0  7  7  9  9  0 12 12]\n",
      "idx_j 13\n",
      "=====\n",
      "idx_j 13\n",
      "jdx 5\n",
      "[ 0  1  2 11 12 13 14  6  7  8  9 10  3  4  5]\n",
      "[-1  0  0  0  0  4  4  0  7  7  9  9  0 12 12]\n",
      "idx_j 14\n",
      "=====\n",
      "6 ---\n",
      "[7 8]\n",
      "idx_j 7\n",
      "jdx 7\n",
      "[ 0  1  2 11 12 13 14  6  7  8  9 10  3  4  5]\n",
      "[-1  0  0  0  0  4  4  0  7  7  9  9  0 12 12]\n",
      "idx_j 8\n",
      "=====\n",
      "idx_j 8\n",
      "jdx 8\n",
      "[-1  0  0  0  0  4  4  0  7  7  9  9  0 12 12]\n",
      "[ 0  1  2 11 12 13 14  6  7  8  9 10  3  4  5]\n",
      "[-1  0  0  0  0  4  4  0  7  7  9  9  0 12 12]\n",
      "idx_j 11\n",
      "=====\n",
      "8 ---\n",
      "[ 9 10]\n",
      "idx_j 9\n",
      "jdx 9\n",
      "[ 0  1  2 11 12 13 14  6  7  8  9 10  3  4  5]\n",
      "[-1  0  0  0  0  4  4  0  7  7  9  9  0 12 12]\n",
      "idx_j 10\n",
      "=====\n",
      "idx_j 10\n",
      "jdx 10\n",
      "[ 0  1  2 11 12 13 14  6  7  8  9 10  3  4  5]\n",
      "[-1  0  0  0  0  4  4  0  7  7  9  9  0 12 12]\n",
      "idx_j 11\n",
      "=====\n",
      "12 ---\n",
      "[13 14]\n",
      "idx_j 4\n",
      "jdx 13\n",
      "[ 0  1  2 11 12 13 14  6  7  8  9 10  3  4  5]\n",
      "[-1  0  0  0  0  4  4  0  7  7  9  9  0 12 12]\n",
      "idx_j 5\n",
      "=====\n",
      "idx_j 5\n",
      "jdx 14\n",
      "[ 0  1  2 11 12 13 14  6  7  8  9 10  3  4  5]\n",
      "[-1  0  0  0  0  4  4  0  7  7  9  9  0 12 12]\n",
      "idx_j 6\n",
      "=====\n"
     ]
    }
   ],
   "source": [
    "#### developing\n",
    "\n",
    "\n",
    "sortby_array = height\n",
    "\n",
    "#\n",
    "subtree = calculate_subtree(parent, leafness)\n",
    "\n",
    "\n",
    "####\n",
    "iter_array = np.array(range(len(parent)))\n",
    "\n",
    "iter_array_updated = iter_array.copy()\n",
    "parent_updated = parent.copy()\n",
    "\n",
    "for idx in iter_array:\n",
    "    \n",
    "    \n",
    "    if sum((parent == idx)) > 0.:\n",
    "        \n",
    "        print(idx, '---')\n",
    "        \n",
    "    \n",
    "        args_0 = iter_array[parent == idx]\n",
    "        sortby = sortby_array[parent == idx]\n",
    "        args_sorted = args_0[np.argsort(sortby)]\n",
    "        \n",
    "        idx_j = np.where(iter_array_updated == idx)[0][0]\n",
    "        \n",
    "        print(args_sorted)\n",
    "        \n",
    "        for jdx in args_sorted:\n",
    "            \n",
    "            print('idx_j', idx_j)\n",
    "            print('jdx', jdx)\n",
    "            \n",
    "            #print((iter_array_updated == idx))\n",
    "            \n",
    "            iter_array_updated[(idx_j+1)] = jdx\n",
    "            parent_updated[(idx_j+1)] = np.where(iter_array_updated == idx)[0][0]\n",
    "            \n",
    "            descendent = subtree[jdx]\n",
    "            if len(descendent) > 0.:\n",
    "                #print('in', ((idx_j+1)-jdx))\n",
    "                iter_array_updated[(idx_j+2):(idx_j+2+len(descendent))] = descendent\n",
    "                parent_updated[(idx_j+2):(idx_j+2+len(descendent))] = parent[descendent] + ((idx_j+1)-jdx)\n",
    "                print(parent_updated)\n",
    "            \n",
    "            \n",
    "            idx_j = idx_j + (1+len(descendent))\n",
    "            \n",
    "            print(iter_array_updated)\n",
    "            print(parent_updated)\n",
    "            print('idx_j', idx_j)\n",
    "            print('=====')\n",
    "        \n",
    "    \n",
    "    \n",
    "    else:\n",
    "        continue\n",
    "        \n",
    "    \n",
    "#print(parent_updated)    \n",
    "        \n",
    "#parent_updated = parent[iter_array_updated]\n",
    "height_updated = height[iter_array_updated]"
   ]
  },
  {
   "cell_type": "code",
   "execution_count": 249,
   "metadata": {},
   "outputs": [
    {
     "data": {
      "text/plain": [
       "array([False, False, False, False, False, False,  True, False, False,\n",
       "       False, False, False, False, False, False])"
      ]
     },
     "execution_count": 249,
     "metadata": {},
     "output_type": "execute_result"
    }
   ],
   "source": [
    "(iter_array_updated == idx)"
   ]
  },
  {
   "cell_type": "code",
   "execution_count": 250,
   "metadata": {},
   "outputs": [
    {
     "data": {
      "text/plain": [
       "array([ 0,  1,  2, 11, 12, 13, 14,  6,  7,  8,  9, 10,  3,  4,  5])"
      ]
     },
     "execution_count": 250,
     "metadata": {},
     "output_type": "execute_result"
    }
   ],
   "source": [
    "iter_array_updated"
   ]
  },
  {
   "cell_type": "code",
   "execution_count": 254,
   "metadata": {},
   "outputs": [
    {
     "data": {
      "text/plain": [
       "array([-1,  0,  0,  0,  0,  4,  4,  0,  7,  7,  9,  9,  0, 12, 12])"
      ]
     },
     "execution_count": 254,
     "metadata": {},
     "output_type": "execute_result"
    }
   ],
   "source": [
    "parent_updated"
   ]
  },
  {
   "cell_type": "code",
   "execution_count": 224,
   "metadata": {},
   "outputs": [
    {
     "name": "stdout",
     "output_type": "stream",
     "text": [
      "0 ---\n",
      "branch\n",
      "[False  True  True  True  True False False  True False False False False\n",
      "  True False False]\n",
      "4 ---\n",
      "branch\n",
      "[False False False False False False False False False False False False\n",
      " False False False]\n",
      "7 ---\n",
      "branch\n",
      "[False False False False False False False False False False False False\n",
      " False False False]\n",
      "9 ---\n",
      "branch\n",
      "[False False False False False False False False False False False False\n",
      " False False False]\n",
      "12 ---\n",
      "branch\n",
      "[False False False False False  True  True False False False False False\n",
      " False False False]\n"
     ]
    }
   ],
   "source": [
    "leafness_updated = calculate_leafness(parent_updated)\n",
    "children_updated = calculate_children(parent_updated, leafness_updated)"
   ]
  },
  {
   "cell_type": "code",
   "execution_count": 225,
   "metadata": {},
   "outputs": [
    {
     "data": {
      "text/plain": [
       "['branch',\n",
       " 'leaf',\n",
       " 'leaf',\n",
       " 'leaf',\n",
       " 'branch',\n",
       " 'leaf',\n",
       " 'leaf',\n",
       " 'branch',\n",
       " 'leaf',\n",
       " 'branch',\n",
       " 'leaf',\n",
       " 'leaf',\n",
       " 'branch',\n",
       " 'leaf',\n",
       " 'leaf']"
      ]
     },
     "execution_count": 225,
     "metadata": {},
     "output_type": "execute_result"
    }
   ],
   "source": [
    "leafness_updated"
   ]
  },
  {
   "cell_type": "code",
   "execution_count": 214,
   "metadata": {},
   "outputs": [
    {
     "data": {
      "text/plain": [
       "array([-1,  0,  0,  0,  0, 12, 12,  0,  6,  6,  8,  8,  0,  3,  3])"
      ]
     },
     "execution_count": 214,
     "metadata": {},
     "output_type": "execute_result"
    }
   ],
   "source": [
    "parent_updated"
   ]
  },
  {
   "cell_type": "code",
   "execution_count": 213,
   "metadata": {},
   "outputs": [
    {
     "data": {
      "text/plain": [
       "['branch',\n",
       " 'leaf',\n",
       " 'leaf',\n",
       " 'leaf',\n",
       " 'branch',\n",
       " 'leaf',\n",
       " 'leaf',\n",
       " 'branch',\n",
       " 'leaf',\n",
       " 'branch',\n",
       " 'leaf',\n",
       " 'leaf',\n",
       " 'branch',\n",
       " 'leaf',\n",
       " 'leaf']"
      ]
     },
     "execution_count": 213,
     "metadata": {},
     "output_type": "execute_result"
    }
   ],
   "source": [
    "calculate_children(parent_updated)"
   ]
  },
  {
   "cell_type": "code",
   "execution_count": 212,
   "metadata": {},
   "outputs": [
    {
     "name": "stderr",
     "output_type": "stream",
     "text": [
      "//anaconda/envs/glueviz-dev/lib/python3.6/site-packages/numpy/core/fromnumeric.py:2957: RuntimeWarning: Mean of empty slice.\n",
      "  out=out, **kwargs)\n"
     ]
    },
    {
     "ename": "IndexError",
     "evalue": "index 0 is out of bounds for axis 0 with size 0",
     "output_type": "error",
     "traceback": [
      "\u001b[0;31m---------------------------------------------------------------------------\u001b[0m",
      "\u001b[0;31mIndexError\u001b[0m                                Traceback (most recent call last)",
      "\u001b[0;32m<ipython-input-212-ec96b41dba13>\u001b[0m in \u001b[0;36m<module>\u001b[0;34m()\u001b[0m\n\u001b[0;32m----> 1\u001b[0;31m \u001b[0mdendro_layout\u001b[0m\u001b[0;34m(\u001b[0m\u001b[0mparent_updated\u001b[0m\u001b[0;34m,\u001b[0m \u001b[0mheight_updated\u001b[0m\u001b[0;34m)\u001b[0m\u001b[0;34m\u001b[0m\u001b[0m\n\u001b[0m",
      "\u001b[0;32m<ipython-input-203-d51ba1875225>\u001b[0m in \u001b[0;36mdendro_layout\u001b[0;34m(parent, height, orientation)\u001b[0m\n\u001b[1;32m     12\u001b[0m     \u001b[0mxpos\u001b[0m \u001b[0;34m=\u001b[0m \u001b[0mcalculate_xpos\u001b[0m\u001b[0;34m(\u001b[0m\u001b[0mparent\u001b[0m\u001b[0;34m,\u001b[0m \u001b[0mleafness\u001b[0m\u001b[0;34m,\u001b[0m \u001b[0mchildren\u001b[0m\u001b[0;34m)\u001b[0m\u001b[0;34m\u001b[0m\u001b[0m\n\u001b[1;32m     13\u001b[0m     verts, verts_horiz = calculate_verts(parent, height, leafness, xpos,\n\u001b[0;32m---> 14\u001b[0;31m                             orientation = orientation)\n\u001b[0m\u001b[1;32m     15\u001b[0m \u001b[0;34m\u001b[0m\u001b[0m\n\u001b[1;32m     16\u001b[0m     \u001b[0;31m# line_collection = LineCollection(verts,\u001b[0m\u001b[0;34m\u001b[0m\u001b[0;34m\u001b[0m\u001b[0m\n",
      "\u001b[0;32m<ipython-input-203-d51ba1875225>\u001b[0m in \u001b[0;36mcalculate_verts\u001b[0;34m(parent, height, leafness, x_pos, orientation)\u001b[0m\n\u001b[1;32m    174\u001b[0m         \u001b[0;32mif\u001b[0m \u001b[0mleafness\u001b[0m\u001b[0;34m[\u001b[0m\u001b[0midx\u001b[0m\u001b[0;34m]\u001b[0m \u001b[0;34m==\u001b[0m \u001b[0;34m'branch'\u001b[0m\u001b[0;34m:\u001b[0m\u001b[0;34m\u001b[0m\u001b[0m\n\u001b[1;32m    175\u001b[0m \u001b[0;34m\u001b[0m\u001b[0m\n\u001b[0;32m--> 176\u001b[0;31m             vert = np.array([[x_pos[iter_array[(parent == idx)][0]], height[idx]],\n\u001b[0m\u001b[1;32m    177\u001b[0m                              [x_pos[iter_array[(parent == idx)][-1]], height[idx]]])\n\u001b[1;32m    178\u001b[0m \u001b[0;34m\u001b[0m\u001b[0m\n",
      "\u001b[0;31mIndexError\u001b[0m: index 0 is out of bounds for axis 0 with size 0"
     ]
    }
   ],
   "source": [
    "dendro_layout(parent_updated, height_updated)"
   ]
  },
  {
   "cell_type": "code",
   "execution_count": 263,
   "metadata": {},
   "outputs": [
    {
     "data": {
      "text/plain": [
       "True"
      ]
     },
     "execution_count": 263,
     "metadata": {},
     "output_type": "execute_result"
    }
   ],
   "source": [
    "None is None"
   ]
  },
  {
   "cell_type": "code",
   "execution_count": 255,
   "metadata": {},
   "outputs": [
    {
     "name": "stdout",
     "output_type": "stream",
     "text": [
      "0 ---\n",
      "branch\n",
      "[False  True  True  True  True False False  True False False False False\n",
      "  True False False]\n",
      "4 ---\n",
      "branch\n",
      "[False False False False False  True  True False False False False False\n",
      " False False False]\n",
      "7 ---\n",
      "branch\n",
      "[False False False False False False False False  True  True False False\n",
      " False False False]\n",
      "9 ---\n",
      "branch\n",
      "[False False False False False False False False False False  True  True\n",
      " False False False]\n",
      "12 ---\n",
      "branch\n",
      "[False False False False False False False False False False False False\n",
      " False  True  True]\n"
     ]
    },
    {
     "data": {
      "text/plain": [
       "(-0.05, 1.5)"
      ]
     },
     "execution_count": 255,
     "metadata": {},
     "output_type": "execute_result"
    },
    {
     "data": {
      "image/png": "[encoded data removed]",
      "text/plain": [
       "<Figure size 640x480 with 1 Axes>"
      ]
     },
     "metadata": {},
     "output_type": "display_data"
    }
   ],
   "source": [
    "test_results = dendro_layout(parent_updated, height_updated)\n",
    "\n",
    "fig = plt.figure()\n",
    "ax = fig.gca()\n",
    "\n",
    "ax.add_collection(LineCollection(np.concatenate([test_results[0], test_results[1]]),\n",
    "                                 colors = 'k',\n",
    "                                 linewidths = 3.))\n",
    "\n",
    "\n",
    "ax.set_xlim(-.5, 12.)\n",
    "ax.set_ylim(-.05, 1.5)"
   ]
  },
  {
   "cell_type": "code",
   "execution_count": 150,
   "metadata": {},
   "outputs": [
    {
     "data": {
      "text/plain": [
       "(-0.05, 1.5)"
      ]
     },
     "execution_count": 150,
     "metadata": {},
     "output_type": "execute_result"
    },
    {
     "data": {
      "image/png": "[encoded data removed]",
      "text/plain": [
       "<Figure size 640x480 with 1 Axes>"
      ]
     },
     "metadata": {},
     "output_type": "display_data"
    }
   ],
   "source": [
    "test_results = dendro_layout(parent, height)\n",
    "\n",
    "fig = plt.figure()\n",
    "ax = fig.gca()\n",
    "\n",
    "ax.add_collection(LineCollection(np.concatenate([test_results[0], test_results[1]]),\n",
    "                                 colors = 'k',\n",
    "                                 linewidths = 3.))\n",
    "\n",
    "\n",
    "ax.set_xlim(-.5, 12.)\n",
    "ax.set_ylim(-.05, 1.5)"
   ]
  },
  {
   "cell_type": "code",
   "execution_count": 202,
   "metadata": {},
   "outputs": [
    {
     "data": {
      "text/plain": [
       "array([-1,  0,  0,  0,  3,  3,  0,  6,  6,  8,  8,  0,  0, 12, 12])"
      ]
     },
     "execution_count": 202,
     "metadata": {},
     "output_type": "execute_result"
    }
   ],
   "source": [
    "parent"
   ]
  },
  {
   "cell_type": "code",
   "execution_count": 201,
   "metadata": {},
   "outputs": [
    {
     "data": {
      "text/plain": [
       "[array([ 1,  2,  3,  4,  5,  6,  7,  8,  9, 10, 11, 12, 13, 14]),\n",
       " array([], dtype=float64),\n",
       " array([], dtype=float64),\n",
       " array([4, 5]),\n",
       " array([], dtype=float64),\n",
       " array([], dtype=float64),\n",
       " array([ 7,  8,  9, 10]),\n",
       " array([], dtype=float64),\n",
       " array([ 9, 10, 11, 12, 13, 14]),\n",
       " array([], dtype=float64),\n",
       " array([], dtype=float64),\n",
       " array([], dtype=float64),\n",
       " array([13, 14]),\n",
       " array([], dtype=float64),\n",
       " array([], dtype=float64)]"
      ]
     },
     "execution_count": 201,
     "metadata": {},
     "output_type": "execute_result"
    }
   ],
   "source": [
    "test"
   ]
  },
  {
   "cell_type": "markdown",
   "metadata": {},
   "source": [
    "______\n",
    "### Test astrodendro\n",
    "\n",
    "Change Kernel to the default."
   ]
  },
  {
   "cell_type": "code",
   "execution_count": 2,
   "metadata": {},
   "outputs": [],
   "source": [
    "import numpy as np\n",
    "\n",
    "from astropy.io import fits\n",
    "from astrodendro import Dendrogram\n",
    "import matplotlib.pyplot as plt\n",
    "#import matplotlib.patches as patches"
   ]
  },
  {
   "cell_type": "code",
   "execution_count": 2,
   "metadata": {},
   "outputs": [
    {
     "name": "stdout",
     "output_type": "stream",
     "text": [
      "obsvL1689_AV.fits obsvL1689_AV.hdf5\r\n"
     ]
    }
   ],
   "source": [
    "!ls data"
   ]
  },
  {
   "cell_type": "code",
   "execution_count": 3,
   "metadata": {},
   "outputs": [
    {
     "name": "stderr",
     "output_type": "stream",
     "text": [
      "//anaconda/lib/python2.7/site-packages/h5py/__init__.py:36: FutureWarning: Conversion of the second argument of issubdtype from `float` to `np.floating` is deprecated. In future, it will be treated as `np.float64 == np.dtype(float).type`.\n",
      "  from ._conv import register_converters as _register_converters\n"
     ]
    }
   ],
   "source": [
    "data = fits.open('data/obsvL1689_AV.fits')\n",
    "dendro = Dendrogram.load_from('data/obsvL1689_AV.hdf5')\n",
    "\n",
    "p_dendro = dendro.plotter()\n",
    "paths = p_dendro.get_lines().get_paths()"
   ]
  },
  {
   "cell_type": "code",
   "execution_count": 6,
   "metadata": {},
   "outputs": [
    {
     "data": {
      "text/plain": [
       "array([[1.6484375 , 7.14289618],\n",
       "       [1.6484375 , 7.95219183]])"
      ]
     },
     "execution_count": 6,
     "metadata": {},
     "output_type": "execute_result"
    }
   ],
   "source": [
    "paths[0].vertices"
   ]
  },
  {
   "cell_type": "code",
   "execution_count": 4,
   "metadata": {},
   "outputs": [
    {
     "data": {
      "image/png": "[encoded data removed]",
      "text/plain": [
       "<matplotlib.figure.Figure at 0x181c6d8d10>"
      ]
     },
     "metadata": {},
     "output_type": "display_data"
    }
   ],
   "source": [
    "fig = plt.figure()\n",
    "ax = fig.gca()\n",
    "\n",
    "for pix in np.array(range(len(paths))):\n",
    "    \n",
    "    vert = paths[pix].vertices\n",
    "    \n",
    "    ax.plot(vert[:, 0],\n",
    "            vert[:, 1],\n",
    "            color = 'k')\n",
    "    \n",
    "    \n",
    "ax.set_yscale('log')"
   ]
  },
  {
   "cell_type": "code",
   "execution_count": 11,
   "metadata": {},
   "outputs": [],
   "source": [
    "test = dendro[5]"
   ]
  },
  {
   "cell_type": "code",
   "execution_count": 12,
   "metadata": {},
   "outputs": [
    {
     "data": {
      "text/plain": [
       "((278, 498), 111.96282958984375)"
      ]
     },
     "execution_count": 12,
     "metadata": {},
     "output_type": "execute_result"
    }
   ],
   "source": [
    "test.get_peak()"
   ]
  },
  {
   "cell_type": "code",
   "execution_count": 13,
   "metadata": {},
   "outputs": [
    {
     "data": {
      "text/plain": [
       "27.00306510925293"
      ]
     },
     "execution_count": 13,
     "metadata": {},
     "output_type": "execute_result"
    }
   ],
   "source": [
    "test.height"
   ]
  },
  {
   "cell_type": "code",
   "execution_count": null,
   "metadata": {},
   "outputs": [],
   "source": []
  }
 ],
 "metadata": {
  "kernelspec": {
   "display_name": "Python [conda env:glueviz-dev]",
   "language": "python",
   "name": "conda-env-glueviz-dev-py"
  },
  "language_info": {
   "codemirror_mode": {
    "name": "ipython",
    "version": 3
   },
   "file_extension": ".py",
   "mimetype": "text/x-python",
   "name": "python",
   "nbconvert_exporter": "python",
   "pygments_lexer": "ipython3",
   "version": "3.6.6"
  }
 },
 "nbformat": 4,
 "nbformat_minor": 2
}
